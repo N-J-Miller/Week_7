{
 "cells": [
  {
   "cell_type": "markdown",
   "id": "b96e469f",
   "metadata": {},
   "source": [
    "# Week 7 Notes"
   ]
  },
  {
   "cell_type": "markdown",
   "id": "58adc142",
   "metadata": {},
   "source": [
    "### Warm-Up: What does ACID stand for and why is important for databases?\n",
    "\n",
    "*Atomicitcy, Consistency, Isolation, Durability, organizing large volumes of data and transactions without cascading errors.\n",
    "\n",
    "\n",
    "Link to database: https://www.postgresql.org/docs/9.1/sql-createtable.html\n",
    "Made table in Postgres"
   ]
  },
  {
   "cell_type": "markdown",
   "id": "eb593d77",
   "metadata": {},
   "source": [
    "Today's plan involves Data Modeling, Subqueries and Joins (30 mins)"
   ]
  },
  {
   "cell_type": "markdown",
   "id": "8a68f4e9",
   "metadata": {},
   "source": [
    "SQL is set-based and works more with groups of data whereas Python is procedural."
   ]
  },
  {
   "cell_type": "markdown",
   "id": "bee9551a",
   "metadata": {},
   "source": [
    "Relationships between tables in "
   ]
  },
  {
   "cell_type": "code",
   "execution_count": null,
   "id": "974e5a49",
   "metadata": {},
   "outputs": [],
   "source": []
  }
 ],
 "metadata": {
  "kernelspec": {
   "display_name": "Python 3 (ipykernel)",
   "language": "python",
   "name": "python3"
  },
  "language_info": {
   "codemirror_mode": {
    "name": "ipython",
    "version": 3
   },
   "file_extension": ".py",
   "mimetype": "text/x-python",
   "name": "python",
   "nbconvert_exporter": "python",
   "pygments_lexer": "ipython3",
   "version": "3.9.7"
  }
 },
 "nbformat": 4,
 "nbformat_minor": 5
}
